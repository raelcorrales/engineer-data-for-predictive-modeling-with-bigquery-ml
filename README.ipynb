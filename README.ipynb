{
 "cells": [
  {
   "cell_type": "markdown",
   "metadata": {},
   "source": [
    "# Engineer Data for Predictive Modeling with BigQuery ML: Challenge Lab"
   ]
  },
  {
   "cell_type": "markdown",
   "metadata": {},
   "source": [
    "## Task 1. Clean your training data\n",
    "You've already completed the first step, and have created a dataset `taxirides` and imported the historical data to table, `historical_taxi_rides_raw`. This is data prior for rides to 2015.\n",
    "\n",
    "> **Note**: You may need to wait 1-3 minutes for the data to be fully populated in your project.\n",
    "\n",
    "To complete this task you will need to:\n",
    "- Clean the data in `historical_taxi_rides_raw` and make a copy to **taxi_training_data_938** in the same dataset. You can use BigQuery, Dataprep, Dataflow, etc. to create this table and clean the data. Make sure your target column is called **fare_amount_828**.\n",
    "\n",
    "Some helpful hints:\n",
    "- You can see the source dataset in the BQ UI - familiarize yourself with the source schema first.\n",
    "- As a hint for the data available at prediction time, familiarize yourself with the table `taxirides.report_prediction_data` which shows the format data will arrive at prediction time.\n",
    "\n",
    "Data cleaning tasks:\n",
    "- Ensure `trip_distance` is greater than **4**.\n",
    "- Remove rows where `fare_amount` is very small (less than $**3** for example).\n",
    "- Ensure that the latitudes and longitudes are reasonable for the use case.\n",
    "- Ensure `passenger_count` is greater than **4**.\n",
    "- Be sure to add `tolls_amount` and `fare_amount` to **fare_amount_828** as the target variable since total_amount includes tips.\n",
    "- Because the source dataset is large (>1 Billion rows), sample the dataset to less than 1 Million rows.\n",
    "- Only copy fields that will be used in your model (`report_prediction_data` is a good guide)."
   ]
  },
  {
   "cell_type": "code",
   "execution_count": null,
   "metadata": {
    "vscode": {
     "languageId": "plaintext"
    }
   },
   "outputs": [],
   "source": [
    "CREATE OR REPLACE TABLE\n",
    "  taxirides.taxi_training_data_938 AS\n",
    "SELECT\n",
    "  (tolls_amount + fare_amount) AS fare_amount_828,\n",
    "  pickup_datetime,\n",
    "  pickup_longitude AS pickuplon,\n",
    "  pickup_latitude AS pickuplat,\n",
    "  dropoff_longitude AS dropofflon,\n",
    "  dropoff_latitude AS dropofflat,\n",
    "  passenger_count AS passengers,\n",
    "FROM\n",
    "  taxirides.historical_taxi_rides_raw\n",
    "WHERE\n",
    "  RAND() < 0.001\n",
    "  AND trip_distance > 4\n",
    "  AND fare_amount >= 3\n",
    "  AND pickup_longitude > -78\n",
    "  AND pickup_longitude < -70\n",
    "  AND dropoff_longitude > -78\n",
    "  AND dropoff_longitude < -70\n",
    "  AND pickup_latitude > 37\n",
    "  AND pickup_latitude < 45\n",
    "  AND dropoff_latitude > 37\n",
    "  AND dropoff_latitude < 45\n",
    "  AND passenger_count > 4\n",
    "LIMIT 1000000;"
   ]
  },
  {
   "cell_type": "markdown",
   "metadata": {},
   "source": [
    "## Task 2. Create a BigQuery ML model\n",
    "1. Based on the data you have in taxirides.taxi_training_data_938, build a BigQuery ML model that predicts fare_amount_828.\n",
    "1. Call the model taxirides.fare_model_736.\n",
    "\n",
    "> Note: Your model will need an RMSE of 10 or less to complete the task.\n",
    "\n",
    "Some helpful hints:\n",
    "- You can encapsulate any additional data transformations in a **TRANSFORM()** clause\n",
    "Keep in mind, only features in the **TRANSFORM()** clause will be passed to the model. You can use a `* EXCEPT(feature_to_leave_out)` to pass some or all of the features without explicitly calling them\n",
    "- `ST_distance()` and `ST_GeogPoint()` GIS functions in BigQuery can be used to easily calculate euclidean distance (i.e. how far pickup to dropoff did the taxi travel):\n",
    "\n",
    "```sql\n",
    "ST_Distance(ST_GeogPoint(pickuplon, pickuplat),\n",
    "ST_GeogPoint(dropofflon, dropofflat)) AS euclidean\n",
    "```\n"
   ]
  },
  {
   "cell_type": "code",
   "execution_count": null,
   "metadata": {
    "vscode": {
     "languageId": "plaintext"
    }
   },
   "outputs": [],
   "source": [
    "CREATE OR REPLACE MODEL taxirides.fare_model_736\n",
    "TRANSFORM(\n",
    "  * EXCEPT(pickup_datetime)\n",
    "\n",
    "  , ST_Distance(ST_GeogPoint(pickuplon, pickuplat), ST_GeogPoint(dropofflon, dropofflat)) AS euclidean\n",
    "  , CAST(EXTRACT(DAYOFWEEK FROM pickup_datetime) AS STRING) AS dayofweek\n",
    "  , CAST(EXTRACT(HOUR FROM pickup_datetime) AS STRING) AS hourofday\n",
    ")\n",
    "OPTIONS(input_label_cols=['fare_amount_828'], model_type='linear_reg')\n",
    "AS\n",
    "\n",
    "SELECT * FROM taxirides.taxi_training_data_938"
   ]
  },
  {
   "cell_type": "markdown",
   "metadata": {},
   "source": [
    "## Task 3. Perform a batch prediction on new data\n",
    "Leadership is curious to see how well your model performs over new data, in this case, all of the data they've collected in 2015. This data is in `taxirides.report_prediction_data`. Only values known at prediction time are included in the table.\n",
    "\n",
    "- Use `ML.PREDICT` and your model to predict **fare_amount_828** and store your results in a table called `2015_fare_amount_predictions`."
   ]
  },
  {
   "cell_type": "code",
   "execution_count": null,
   "metadata": {
    "vscode": {
     "languageId": "plaintext"
    }
   },
   "outputs": [],
   "source": [
    "CREATE OR REPLACE TABLE taxirides.2015_fare_amount_predictions\n",
    "  AS\n",
    "SELECT * FROM ML.PREDICT(MODEL taxirides.fare_model_736,(\n",
    "  SELECT * FROM taxirides.report_prediction_data)\n",
    ")"
   ]
  }
 ],
 "metadata": {
  "language_info": {
   "name": "python"
  }
 },
 "nbformat": 4,
 "nbformat_minor": 2
}
